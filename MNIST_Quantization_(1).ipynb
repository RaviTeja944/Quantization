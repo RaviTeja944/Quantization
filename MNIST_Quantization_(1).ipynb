{
  "cells": [
    {
      "cell_type": "code",
      "execution_count": 1,
      "metadata": {
        "colab": {
          "base_uri": "https://localhost:8080/"
        },
        "id": "lXkLBDW94D0w",
        "outputId": "af25a73e-ba5f-4daf-b53a-1dd0fcb420bb"
      },
      "outputs": [
        {
          "output_type": "stream",
          "name": "stdout",
          "text": [
            "Requirement already satisfied: tensorflow-model-optimization in /usr/local/lib/python3.11/dist-packages (0.8.0)\n",
            "Requirement already satisfied: absl-py~=1.2 in /usr/local/lib/python3.11/dist-packages (from tensorflow-model-optimization) (1.4.0)\n",
            "Requirement already satisfied: dm-tree~=0.1.1 in /usr/local/lib/python3.11/dist-packages (from tensorflow-model-optimization) (0.1.9)\n",
            "Requirement already satisfied: numpy~=1.23 in /usr/local/lib/python3.11/dist-packages (from tensorflow-model-optimization) (1.26.4)\n",
            "Requirement already satisfied: six~=1.14 in /usr/local/lib/python3.11/dist-packages (from tensorflow-model-optimization) (1.17.0)\n",
            "Requirement already satisfied: attrs>=18.2.0 in /usr/local/lib/python3.11/dist-packages (from dm-tree~=0.1.1->tensorflow-model-optimization) (25.3.0)\n",
            "Requirement already satisfied: wrapt>=1.11.2 in /usr/local/lib/python3.11/dist-packages (from dm-tree~=0.1.1->tensorflow-model-optimization) (1.17.2)\n"
          ]
        }
      ],
      "source": [
        "!pip install tensorflow-model-optimization\n"
      ]
    },
    {
      "cell_type": "code",
      "execution_count": 2,
      "metadata": {
        "id": "DBLUMOVrNDoe"
      },
      "outputs": [],
      "source": [
        "import tensorflow\n",
        "from tensorflow import keras\n",
        "import matplotlib.pyplot as plt\n",
        "import time\n",
        "import pathlib\n",
        "import tensorflow_model_optimization as tfmot"
      ]
    },
    {
      "cell_type": "code",
      "execution_count": 3,
      "metadata": {
        "id": "7qyc9DygOAtr",
        "colab": {
          "base_uri": "https://localhost:8080/"
        },
        "outputId": "b1d7847a-1800-4a36-9425-746b930d4350"
      },
      "outputs": [
        {
          "output_type": "stream",
          "name": "stdout",
          "text": [
            "Requirement already satisfied: tensorflow_model_optimization in /usr/local/lib/python3.11/dist-packages (0.8.0)\n",
            "Requirement already satisfied: absl-py~=1.2 in /usr/local/lib/python3.11/dist-packages (from tensorflow_model_optimization) (1.4.0)\n",
            "Requirement already satisfied: dm-tree~=0.1.1 in /usr/local/lib/python3.11/dist-packages (from tensorflow_model_optimization) (0.1.9)\n",
            "Requirement already satisfied: numpy~=1.23 in /usr/local/lib/python3.11/dist-packages (from tensorflow_model_optimization) (1.26.4)\n",
            "Requirement already satisfied: six~=1.14 in /usr/local/lib/python3.11/dist-packages (from tensorflow_model_optimization) (1.17.0)\n",
            "Requirement already satisfied: attrs>=18.2.0 in /usr/local/lib/python3.11/dist-packages (from dm-tree~=0.1.1->tensorflow_model_optimization) (25.3.0)\n",
            "Requirement already satisfied: wrapt>=1.11.2 in /usr/local/lib/python3.11/dist-packages (from dm-tree~=0.1.1->tensorflow_model_optimization) (1.17.2)\n"
          ]
        }
      ],
      "source": [
        "!pip install tensorflow_model_optimization"
      ]
    },
    {
      "cell_type": "code",
      "execution_count": 5,
      "metadata": {
        "id": "9EfAxWURODiK"
      },
      "outputs": [],
      "source": [
        "from tensorflow_model_optimization.python.core.keras.compat import keras"
      ]
    },
    {
      "cell_type": "code",
      "execution_count": 4,
      "metadata": {
        "colab": {
          "base_uri": "https://localhost:8080/"
        },
        "id": "kNjMzTtVOZ2T",
        "outputId": "57537dce-c666-473f-e65c-e1b1aabb04d5"
      },
      "outputs": [
        {
          "output_type": "stream",
          "name": "stdout",
          "text": [
            "Downloading data from https://storage.googleapis.com/tensorflow/tf-keras-datasets/mnist.npz\n",
            "11490434/11490434 [==============================] - 0s 0us/step\n",
            "(60000, 784)\n",
            "(10000, 784)\n",
            "(60000,)\n",
            "(10000,)\n"
          ]
        }
      ],
      "source": [
        "(X_train, y_train), (X_test, y_test) = keras.datasets.mnist.load_data()\n",
        "X_train = X_train.reshape(60000, 28*28)\n",
        "X_test = X_test.reshape(10000, 28*28)\n",
        "print(X_train.shape)\n",
        "print(X_test.shape)\n",
        "print(y_train.shape)\n",
        "print(y_test.shape)"
      ]
    },
    {
      "cell_type": "code",
      "execution_count": 6,
      "metadata": {
        "id": "E2s1U3PRQ6jj"
      },
      "outputs": [],
      "source": [
        "# Requirements\n",
        "requirements1 = keras.callbacks.ModelCheckpoint(\n",
        "            \"/content/main/PQT_normal_model.keras\",\n",
        "            monitor=\"val_loss\",\n",
        "            verbose=0,\n",
        "            save_best_only=True,\n",
        "            save_weights_only=False,\n",
        "            mode=\"min\",\n",
        "            save_freq=\"epoch\")"
      ]
    },
    {
      "cell_type": "code",
      "execution_count": 7,
      "metadata": {
        "colab": {
          "base_uri": "https://localhost:8080/",
          "height": 1000
        },
        "id": "viMZB798PQDv",
        "outputId": "7e5ded90-d145-4aa1-9a0b-526b31d2c627"
      },
      "outputs": [
        {
          "output_type": "stream",
          "name": "stdout",
          "text": [
            "Model: \"sequential\"\n",
            "_________________________________________________________________\n",
            " Layer (type)                Output Shape              Param #   \n",
            "=================================================================\n",
            " dense (Dense)               (None, 50)                39250     \n",
            "                                                                 \n",
            " dense_1 (Dense)             (None, 50)                2550      \n",
            "                                                                 \n",
            " dense_2 (Dense)             (None, 10)                510       \n",
            "                                                                 \n",
            "=================================================================\n",
            "Total params: 42310 (165.27 KB)\n",
            "Trainable params: 42310 (165.27 KB)\n",
            "Non-trainable params: 0 (0.00 Byte)\n",
            "_________________________________________________________________\n",
            "Epoch 1/10\n",
            "235/235 [==============================] - 8s 8ms/step - loss: 4.9152 - accuracy: 0.7376 - val_loss: 0.9889 - val_accuracy: 0.8181\n",
            "Epoch 2/10\n",
            "235/235 [==============================] - 1s 6ms/step - loss: 0.7383 - accuracy: 0.8449 - val_loss: 0.6154 - val_accuracy: 0.8627\n",
            "Epoch 3/10\n",
            "235/235 [==============================] - 1s 6ms/step - loss: 0.4869 - accuracy: 0.8807 - val_loss: 0.4697 - val_accuracy: 0.8952\n",
            "Epoch 4/10\n",
            "235/235 [==============================] - 2s 7ms/step - loss: 0.3890 - accuracy: 0.9011 - val_loss: 0.4152 - val_accuracy: 0.9033\n",
            "Epoch 5/10\n",
            "235/235 [==============================] - 2s 9ms/step - loss: 0.3298 - accuracy: 0.9144 - val_loss: 0.3789 - val_accuracy: 0.9155\n",
            "Epoch 6/10\n",
            "235/235 [==============================] - 1s 6ms/step - loss: 0.2863 - accuracy: 0.9226 - val_loss: 0.3363 - val_accuracy: 0.9226\n",
            "Epoch 7/10\n",
            "235/235 [==============================] - 1s 4ms/step - loss: 0.2564 - accuracy: 0.9289 - val_loss: 0.3189 - val_accuracy: 0.9234\n",
            "Epoch 8/10\n",
            "235/235 [==============================] - 1s 3ms/step - loss: 0.2344 - accuracy: 0.9346 - val_loss: 0.3126 - val_accuracy: 0.9284\n",
            "Epoch 9/10\n",
            "235/235 [==============================] - 1s 4ms/step - loss: 0.2145 - accuracy: 0.9390 - val_loss: 0.2979 - val_accuracy: 0.9310\n",
            "Epoch 10/10\n",
            "235/235 [==============================] - 1s 3ms/step - loss: 0.2058 - accuracy: 0.9413 - val_loss: 0.3006 - val_accuracy: 0.9302\n"
          ]
        },
        {
          "output_type": "execute_result",
          "data": {
            "text/plain": [
              "<matplotlib.legend.Legend at 0x7d9a9949da90>"
            ]
          },
          "metadata": {},
          "execution_count": 7
        },
        {
          "output_type": "display_data",
          "data": {
            "text/plain": [
              "<Figure size 640x480 with 1 Axes>"
            ],
            "image/png": "[encoded data removed]"
          },
          "metadata": {}
        }
      ],
      "source": [
        "# Normal Model\n",
        "model = keras.Sequential()\n",
        "model.add(keras.layers.Input(shape = (784,)))\n",
        "model.add(keras.layers.Dense(50, activation = \"relu\"))\n",
        "model.add(keras.layers.Dense(50, activation = \"relu\"))\n",
        "model.add(keras.layers.Dense(10, activation = \"softmax\"))\n",
        "# Model summary\n",
        "model.summary()\n",
        "# Compiling the model\n",
        "model.compile(loss = \"sparse_categorical_crossentropy\", optimizer = 'adam', metrics = ['accuracy'])\n",
        "# Fitting the model\n",
        "history = model.fit(X_train, y_train, epochs = 10, batch_size = 256, validation_data = (X_test, y_test), callbacks = [requirements1])\n",
        "# Accuracy plot\n",
        "plt.subplot(1, 2, 1)\n",
        "plt.plot(history.history['accuracy'], label='Training Accuracy')\n",
        "plt.plot(history.history['val_accuracy'], label='Validation Accuracy')\n",
        "plt.title('Training and Validation Accuracy')\n",
        "plt.xlabel('Epoch')\n",
        "plt.ylabel('Accuracy')\n",
        "plt.legend()"
      ]
    },
    {
      "cell_type": "markdown",
      "metadata": {
        "id": "ERej0BWjhXwp"
      },
      "source": [
        "#PQT- Compression"
      ]
    },
    {
      "cell_type": "code",
      "execution_count": 8,
      "metadata": {
        "colab": {
          "base_uri": "https://localhost:8080/"
        },
        "id": "vueptOEXgyJq",
        "outputId": "c056ad48-4d27-4949-f09f-027bd4612a9c"
      },
      "outputs": [
        {
          "output_type": "stream",
          "name": "stdout",
          "text": [
            "Total time taken to load normal model is 0.08692741394042969\n",
            "Total time taken to load quantized model is 0.030555009841918945\n"
          ]
        }
      ],
      "source": [
        "# loading the normal model\n",
        "start1 = time.time()\n",
        "model1 = keras.models.load_model(\"/content/main/PQT_normal_model.keras\")\n",
        "end1 = time.time()\n",
        "total1 = end1 - start1\n",
        "print(f\"Total time taken to load normal model is {total1}\")\n",
        "#model1.summary()\n",
        "\n",
        "# convert the model\n",
        "converter = tensorflow.lite.TFLiteConverter.from_keras_model(model1)\n",
        "converter.optimizations = [tensorflow.lite.Optimize.DEFAULT]\n",
        "tflite_quant_model = converter.convert()\n",
        "\n",
        "# save the model\n",
        "with open((\"/content/main/PQT_compressed_model.tflite\"), mode = 'wb') as file:\n",
        "    file.write(tflite_quant_model)\n",
        "\n",
        "# Loading tflite model\n",
        "start2 = time.time()\n",
        "compressed_model = tensorflow.lite.Interpreter(model_path = r\"/content/main/PQT_compressed_model.tflite\")\n",
        "compressed_model.allocate_tensors()\n",
        "end2 = time.time()\n",
        "total2 = end2 - start2\n",
        "print(f\"Total time taken to load quantized model is {total2}\")"
      ]
    },
    {
      "cell_type": "markdown",
      "metadata": {
        "id": "NKSjl3q_j5vH"
      },
      "source": [
        "# PQT- Compression + Quantization"
      ]
    },
    {
      "cell_type": "code",
      "execution_count": 9,
      "metadata": {
        "colab": {
          "base_uri": "https://localhost:8080/"
        },
        "id": "3ljdLoyhhwkp",
        "outputId": "ef2fd338-6c0f-469a-bf33-33b06e52e3ac"
      },
      "outputs": [
        {
          "output_type": "stream",
          "name": "stderr",
          "text": [
            "/usr/local/lib/python3.11/dist-packages/tensorflow/lite/python/convert.py:997: UserWarning: Statistics for quantized inputs were expected, but not specified; continuing anyway.\n",
            "  warnings.warn(\n"
          ]
        }
      ],
      "source": [
        "# load the model\n",
        "model2 = keras.models.load_model(\"/content/main/PQT_normal_model.keras\")\n",
        "#model2.summary()\n",
        "\n",
        "# Quantize the loaded model\n",
        "quantize_model = tfmot.quantization.keras.quantize_model\n",
        "quantized_model = quantize_model(model2)\n",
        "\n",
        "# convert the model\n",
        "converter = tensorflow.lite.TFLiteConverter.from_keras_model(quantized_model)\n",
        "converter.optimizations = [tensorflow.lite.Optimize.DEFAULT]\n",
        "tflite_quant_model = converter.convert()\n",
        "\n",
        "# save the model\n",
        "with open((\"/content/main/PQT_compressed_quantize_model.tflite\"), mode = 'wb') as file:\n",
        "    file.write(tflite_quant_model)"
      ]
    },
    {
      "cell_type": "code",
      "execution_count": 10,
      "metadata": {
        "colab": {
          "base_uri": "https://localhost:8080/",
          "height": 836
        },
        "id": "uOCuYt_r5ixB",
        "outputId": "1684d140-6acb-493e-e25d-3b9844126335"
      },
      "outputs": [
        {
          "output_type": "stream",
          "name": "stdout",
          "text": [
            "Epoch 1/10\n",
            "235/235 [==============================] - 4s 5ms/step - loss: 0.3840 - accuracy: 0.8998 - val_loss: 0.3020 - val_accuracy: 0.9247\n",
            "Epoch 2/10\n",
            "235/235 [==============================] - 1s 5ms/step - loss: 0.2770 - accuracy: 0.9312 - val_loss: 0.2987 - val_accuracy: 0.9320\n",
            "Epoch 3/10\n",
            "235/235 [==============================] - 1s 5ms/step - loss: 0.2332 - accuracy: 0.9407 - val_loss: 0.2572 - val_accuracy: 0.9374\n",
            "Epoch 4/10\n",
            "235/235 [==============================] - 1s 5ms/step - loss: 0.2067 - accuracy: 0.9457 - val_loss: 0.2540 - val_accuracy: 0.9436\n",
            "Epoch 5/10\n",
            "235/235 [==============================] - 1s 5ms/step - loss: 0.1790 - accuracy: 0.9505 - val_loss: 0.2503 - val_accuracy: 0.9441\n",
            "Epoch 6/10\n",
            "235/235 [==============================] - 1s 5ms/step - loss: 0.1670 - accuracy: 0.9531 - val_loss: 0.2390 - val_accuracy: 0.9453\n",
            "Epoch 7/10\n",
            "235/235 [==============================] - 1s 5ms/step - loss: 0.1573 - accuracy: 0.9556 - val_loss: 0.2318 - val_accuracy: 0.9485\n",
            "Epoch 8/10\n",
            "235/235 [==============================] - 1s 5ms/step - loss: 0.1409 - accuracy: 0.9597 - val_loss: 0.2341 - val_accuracy: 0.9443\n",
            "Epoch 9/10\n",
            "235/235 [==============================] - 2s 7ms/step - loss: 0.1356 - accuracy: 0.9610 - val_loss: 0.2261 - val_accuracy: 0.9515\n",
            "Epoch 10/10\n",
            "235/235 [==============================] - 1s 5ms/step - loss: 0.1301 - accuracy: 0.9620 - val_loss: 0.2175 - val_accuracy: 0.9522\n"
          ]
        },
        {
          "output_type": "execute_result",
          "data": {
            "text/plain": [
              "<matplotlib.legend.Legend at 0x7d9a901166d0>"
            ]
          },
          "metadata": {},
          "execution_count": 10
        },
        {
          "output_type": "display_data",
          "data": {
            "text/plain": [
              "<Figure size 640x480 with 1 Axes>"
            ],
            "image/png": "[encoded data removed]"
          },
          "metadata": {}
        }
      ],
      "source": [
        "\n",
        "quantized_model.compile(loss = \"sparse_categorical_crossentropy\", optimizer = 'adam', metrics = ['accuracy'])\n",
        "# Fitting the model\n",
        "history_3 = quantized_model.fit(X_train, y_train, epochs = 10, batch_size = 256, validation_data = (X_test, y_test), callbacks = [requirements1])\n",
        "# Accuracy plot\n",
        "plt.subplot(1, 2, 1)\n",
        "plt.plot(history_3.history['accuracy'], label='Training Accuracy')\n",
        "plt.plot(history_3.history['val_accuracy'], label='Validation Accuracy')\n",
        "plt.title('Training and Validation Accuracy')\n",
        "plt.xlabel('Epoch')\n",
        "plt.ylabel('Accuracy')\n",
        "plt.legend()"
      ]
    },
    {
      "cell_type": "markdown",
      "metadata": {
        "id": "XRwGTpTKk0HL"
      },
      "source": [
        "# Quantization Aware Training"
      ]
    },
    {
      "cell_type": "markdown",
      "metadata": {
        "id": "_RApkUc0lRHP"
      },
      "source": [
        "* Normal Approach: Create a model --> compile the model --> fit the model\n",
        " Graph( TA vs VA) and (TL vs VL)\n",
        "* Quantization Aware Approach: Create a model --> quantize the model --> compile the model --> fit the model\n",
        " Graph( TA vs VA) and (TL vs VL)"
      ]
    },
    {
      "cell_type": "markdown",
      "metadata": {
        "id": "dfiDFO9elXcg"
      },
      "source": [
        "* Normal Approach: Create a model --> compile the model --> fit the model\n",
        "Graph( TA vs VA) and (TL vs VL)"
      ]
    },
    {
      "cell_type": "code",
      "execution_count": 11,
      "metadata": {
        "id": "wVzUKffDiva5"
      },
      "outputs": [],
      "source": [
        "# Requirements\n",
        "requirements2 = keras.callbacks.ModelCheckpoint(\n",
        "            \"/content/main/QAT_normal_model.keras\",\n",
        "            monitor=\"val_loss\",\n",
        "            verbose=0,\n",
        "            save_best_only=True,\n",
        "            save_weights_only=False,\n",
        "            mode=\"min\",\n",
        "            save_freq=\"epoch\")"
      ]
    },
    {
      "cell_type": "code",
      "execution_count": 12,
      "metadata": {
        "colab": {
          "base_uri": "https://localhost:8080/"
        },
        "id": "i11tY5Hfnfq5",
        "outputId": "4fa2e3fc-cfae-4b87-b9ce-9250e7b86202"
      },
      "outputs": [
        {
          "output_type": "stream",
          "name": "stdout",
          "text": [
            "Epoch 1/10\n",
            "235/235 [==============================] - 3s 6ms/step - loss: 1.0490 - accuracy: 0.6820 - val_loss: 0.8335 - val_accuracy: 0.7181\n",
            "Epoch 2/10\n",
            "235/235 [==============================] - 1s 5ms/step - loss: 0.8331 - accuracy: 0.7015 - val_loss: 0.9025 - val_accuracy: 0.5950\n",
            "Epoch 3/10\n",
            "235/235 [==============================] - 1s 5ms/step - loss: 0.9251 - accuracy: 0.6289 - val_loss: 1.1389 - val_accuracy: 0.5795\n",
            "Epoch 4/10\n",
            "235/235 [==============================] - 1s 5ms/step - loss: 1.2094 - accuracy: 0.5265 - val_loss: 1.8670 - val_accuracy: 0.4588\n",
            "Epoch 5/10\n",
            "235/235 [==============================] - 1s 5ms/step - loss: 1.4472 - accuracy: 0.4277 - val_loss: 1.4833 - val_accuracy: 0.4279\n",
            "Epoch 6/10\n",
            "235/235 [==============================] - 1s 5ms/step - loss: 1.6424 - accuracy: 0.4171 - val_loss: 2.4793 - val_accuracy: 0.5574\n",
            "Epoch 7/10\n",
            "235/235 [==============================] - 1s 4ms/step - loss: 1.9215 - accuracy: 0.4484 - val_loss: 2.4220 - val_accuracy: 0.5685\n",
            "Epoch 8/10\n",
            "235/235 [==============================] - 1s 5ms/step - loss: 2.1963 - accuracy: 0.5298 - val_loss: 4.3536 - val_accuracy: 0.6486\n",
            "Epoch 9/10\n",
            "235/235 [==============================] - 2s 7ms/step - loss: 2.4900 - accuracy: 0.6002 - val_loss: 3.8909 - val_accuracy: 0.6512\n",
            "Epoch 10/10\n",
            "235/235 [==============================] - 3s 13ms/step - loss: 2.6356 - accuracy: 0.6003 - val_loss: 4.0758 - val_accuracy: 0.6882\n"
          ]
        }
      ],
      "source": [
        "# Training model for QAT\n",
        "model3 = keras.Sequential()\n",
        "model3.add(keras.layers.Input(shape = (784,)))\n",
        "model3.add(keras.layers.Dense(100, activation = 'relu'))\n",
        "model3.add(keras.layers.Dense(100, activation = 'relu'))\n",
        "model3.add(keras.layers.Dense(10, activation = 'softmax'))\n",
        "\n",
        "# Then Quantize the model\n",
        "quantize_model = tfmot.quantization.keras.quantize_model\n",
        "quantized_model = quantize_model(model3)\n",
        "\n",
        "# Then compile the quantized model\n",
        "quantized_model.compile(loss = 'sparse_categorical_crossentropy', optimizer = 'adam', metrics = ['accuracy'])\n",
        "history2 = quantized_model.fit(X_train, y_train, batch_size = 256, epochs = 10, validation_data = (X_test, y_test), callbacks = [requirements2], verbose = 1)\n"
      ]
    },
    {
      "cell_type": "code",
      "execution_count": 13,
      "metadata": {
        "colab": {
          "base_uri": "https://localhost:8080/"
        },
        "id": "vWxV9HLHoWcx",
        "outputId": "d563b171-1cf9-4583-b6d2-b34f8628c40e"
      },
      "outputs": [
        {
          "output_type": "stream",
          "name": "stdout",
          "text": [
            "Total time taken to load quantized model is 0.0006115436553955078\n"
          ]
        },
        {
          "output_type": "stream",
          "name": "stderr",
          "text": [
            "/usr/local/lib/python3.11/dist-packages/tensorflow/lite/python/convert.py:997: UserWarning: Statistics for quantized inputs were expected, but not specified; continuing anyway.\n",
            "  warnings.warn(\n"
          ]
        }
      ],
      "source": [
        "# convert the model\n",
        "converter = tensorflow.lite.TFLiteConverter.from_keras_model(quantized_model)\n",
        "converter.optimizations = [tensorflow.lite.Optimize.DEFAULT]\n",
        "tflite_quant_model = converter.convert()\n",
        "\n",
        "# save the model\n",
        "with open((\"/content/main/QAT_quantized_model.tflite\"), mode = 'wb') as file:\n",
        "    file.write(tflite_quant_model)\n",
        "\n",
        "# Loading tflite model\n",
        "start3 = time.time()\n",
        "compressed_model = tensorflow.lite.Interpreter(model_path = r\"/content/main/QAT_quantized_model.tflite\")\n",
        "compressed_model.allocate_tensors()\n",
        "end3 = time.time()\n",
        "total3 = end3 - start3\n",
        "print(f\"Total time taken to load quantized model is {total3}\")"
      ]
    },
    {
      "cell_type": "code",
      "execution_count": 14,
      "metadata": {
        "colab": {
          "base_uri": "https://localhost:8080/"
        },
        "id": "kMN8TBYrsAqy",
        "outputId": "60cf8902-f9e1-4755-a400-b988162607de"
      },
      "outputs": [
        {
          "output_type": "stream",
          "name": "stdout",
          "text": [
            "Total time taken to load QAT quantized model is 0.0006508827209472656\n"
          ]
        }
      ],
      "source": [
        "# Time taken to load the QAT quatized model\n",
        "start4 = time.time()\n",
        "compressed_model = tensorflow.lite.Interpreter(model_path = r\"/content/main/QAT_quantized_model.tflite\")\n",
        "compressed_model.allocate_tensors()\n",
        "end4 = time.time()\n",
        "total4 = end4 - start4\n",
        "print(f\"Total time taken to load QAT quantized model is {total4}\")"
      ]
    },
    {
      "cell_type": "markdown",
      "metadata": {
        "id": "hGp3TpEuEN42"
      },
      "source": [
        "# Comparision table\n",
        "1. Comparision between the file sizes before Quantization and after quantization\n",
        "2. compare the loss between the normal model , PQT and QAT model\n",
        "3. compare the accuracy between the normal model , PQT and QAT model\n",
        "4. comparing the model loading time  between the normal model , PQT and QAT model"
      ]
    },
    {
      "cell_type": "markdown",
      "metadata": {
        "id": "x1F-0987AMeV"
      },
      "source": [
        "| Model Type                     | File Size | Loss    | Accuracy | Load Time (seconds) |\n",
        "|---------------------------------|-----------|---------|----------|--------------------|\n",
        "| Normal Model                    | 522 KB    | 0.1653  | 0.9531   | 0.0897             |\n",
        "| PQT Compressed + Quantized Model | 45 KB     | 0.0903  | 0.9731   | 0.0359             |\n",
        "| QAT Quantized Model              | 92 KB     | 0.9505  | 0.7449   | 0.0006             |\n"
      ]
    },
    {
      "cell_type": "code",
      "execution_count": null,
      "metadata": {
        "id": "JlrUkpAPuzaY"
      },
      "outputs": [],
      "source": []
    }
  ],
  "metadata": {
    "accelerator": "GPU",
    "colab": {
      "gpuType": "T4",
      "provenance": []
    },
    "kernelspec": {
      "display_name": "Python 3",
      "name": "python3"
    },
    "language_info": {
      "codemirror_mode": {
        "name": "ipython",
        "version": 3
      },
      "file_extension": ".py",
      "mimetype": "text/x-python",
      "name": "python",
      "nbconvert_exporter": "python",
      "pygments_lexer": "ipython3",
      "version": "3.12.4"
    }
  },
  "nbformat": 4,
  "nbformat_minor": 0
}